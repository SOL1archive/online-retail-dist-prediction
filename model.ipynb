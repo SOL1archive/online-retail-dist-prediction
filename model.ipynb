{
  "cells": [
    {
      "cell_type": "code",
      "execution_count": null,
      "metadata": {
        "id": "Iyt5aOcrnP05"
      },
      "outputs": [],
      "source": [
        "import os\n",
        "import sys\n",
        "import random\n",
        "import gc\n",
        "\n",
        "import numpy as np\n",
        "import pandas as pd\n",
        "from tqdm.auto import tqdm\n",
        "\n",
        "from sklearn.preprocessing import MinMaxScaler, StandardScaler\n",
        "from scipy.stats import entropy\n",
        "from scipy.spatial.distance import jensenshannon\n",
        "\n",
        "import torch\n",
        "import torch.nn as nn\n",
        "import torch.nn.functional as F\n",
        "from torch.optim import AdamW, SGD\n",
        "from torch.optim.lr_scheduler import CosineAnnealingLR\n",
        "import torch.utils as utils\n",
        "from torch.utils.data import Dataset, TensorDataset, DataLoader, random_split\n",
        "\n",
        "import matplotlib as  mpl\n",
        "import matplotlib.pyplot as plt\n",
        "import seaborn as sns"
      ]
    },
    {
      "cell_type": "code",
      "execution_count": null,
      "metadata": {
        "id": "6LYsBU6nnYQJ",
        "colab": {
          "base_uri": "https://localhost:8080/"
        },
        "outputId": "e7d58948-03b7-44f0-ac4b-50e61ae69390"
      },
      "outputs": [
        {
          "output_type": "stream",
          "name": "stdout",
          "text": [
            "Mounted at /content/drive\n"
          ]
        }
      ],
      "source": [
        "import google.colab\n",
        "google.colab.drive.mount('/content/drive')"
      ]
    },
    {
      "cell_type": "code",
      "execution_count": null,
      "metadata": {
        "id": "AdWXetKbnbkf",
        "colab": {
          "base_uri": "https://localhost:8080/"
        },
        "outputId": "42f5d4b2-beda-4a98-f4d3-0742af5aeab8"
      },
      "outputs": [
        {
          "output_type": "execute_result",
          "data": {
            "text/plain": [
              "torch.Size([1, 305, 3665])"
            ]
          },
          "metadata": {},
          "execution_count": 3
        }
      ],
      "source": [
        "train_df = pd.read_json('/content/drive/MyDrive/projects/data-hanmadang/time-series.json')\n",
        "train_data = torch.tensor(train_df.values).unsqueeze(0)\n",
        "train_data.shape"
      ]
    },
    {
      "cell_type": "code",
      "execution_count": null,
      "metadata": {
        "id": "Q0jSsd4JMnDl",
        "colab": {
          "base_uri": "https://localhost:8080/",
          "height": 424
        },
        "outputId": "c0a0754b-6d6f-41df-812b-4fa8af7ee1bc"
      },
      "outputs": [
        {
          "output_type": "execute_result",
          "data": {
            "text/plain": [
              "              85123A     71053    84406B    84029G    84029E     22752  \\\n",
              "2010-12-01  0.018212  0.001321  0.001652  0.002313  0.022672  0.000909   \n",
              "2010-12-02  0.009922  0.003018  0.002729  0.004303  0.004335  0.007032   \n",
              "2010-12-03  0.001689  0.000000  0.000000  0.000338  0.001351  0.000507   \n",
              "2010-12-05  0.012037  0.000000  0.002006  0.001763  0.001033  0.000486   \n",
              "2010-12-06  0.008348  0.000614  0.000737  0.000246  0.002885  0.000614   \n",
              "...              ...       ...       ...       ...       ...       ...   \n",
              "2011-12-05  0.007677  0.000078  0.000442  0.000468  0.001041  0.001145   \n",
              "2011-12-06  0.001402  0.000000  0.000000  0.000539  0.000287  0.003450   \n",
              "2011-12-07  0.004866  0.000146  0.000000  0.000973  0.001192  0.000292   \n",
              "2011-12-08  0.003739  0.000000  0.000000  0.002468  0.000472  0.000871   \n",
              "2011-12-09  0.000011  0.000000  0.000000  0.000221  0.000088  0.000000   \n",
              "\n",
              "               21730     22633     22632     84879  ...     23562     23561  \\\n",
              "2010-12-01  0.001239  0.007351  0.009581  0.008920  ...  0.000000  0.000000   \n",
              "2010-12-02  0.002376  0.004881  0.005395  0.016152  ...  0.000000  0.000000   \n",
              "2010-12-03  0.000253  0.008616  0.002196  0.002703  ...  0.000000  0.000000   \n",
              "2010-12-05  0.000122  0.004985  0.004560  0.007842  ...  0.000000  0.000000   \n",
              "2010-12-06  0.002148  0.016635  0.017433  0.006998  ...  0.000000  0.000000   \n",
              "...              ...       ...       ...       ...  ...       ...       ...   \n",
              "2011-12-05  0.000104  0.002732  0.001327  0.002836  ...  0.000729  0.000625   \n",
              "2011-12-06  0.000072  0.001078  0.001402  0.008625  ...  0.000862  0.000000   \n",
              "2011-12-07  0.000097  0.000998  0.000633  0.006228  ...  0.001800  0.001654   \n",
              "2011-12-08  0.000000  0.001488  0.002033  0.000109  ...  0.000762  0.000436   \n",
              "2011-12-09  0.000000  0.000464  0.000265  0.000177  ...  0.000066  0.000066   \n",
              "\n",
              "              90214F    90214O    90214T    90214U    90214W    90214Z  \\\n",
              "2010-12-01  0.000000  0.000000  0.000000  0.000000  0.000000  0.000000   \n",
              "2010-12-02  0.000000  0.000000  0.000000  0.000000  0.000000  0.000000   \n",
              "2010-12-03  0.000000  0.000000  0.000000  0.000000  0.000000  0.000000   \n",
              "2010-12-05  0.000000  0.000000  0.000000  0.000000  0.000000  0.000000   \n",
              "2010-12-06  0.000000  0.000000  0.000000  0.000000  0.000000  0.000000   \n",
              "...              ...       ...       ...       ...       ...       ...   \n",
              "2011-12-05  0.000312  0.000312  0.000312  0.000312  0.000312  0.000312   \n",
              "2011-12-06  0.000000  0.000000  0.000000  0.000000  0.000000  0.000000   \n",
              "2011-12-07  0.000024  0.000000  0.000000  0.000000  0.000000  0.000000   \n",
              "2011-12-08  0.000000  0.000000  0.000000  0.000000  0.000000  0.000000   \n",
              "2011-12-09  0.000000  0.000000  0.000000  0.000000  0.000000  0.000000   \n",
              "\n",
              "               90089     23843  \n",
              "2010-12-01  0.000000  0.000000  \n",
              "2010-12-02  0.000000  0.000000  \n",
              "2010-12-03  0.000000  0.000000  \n",
              "2010-12-05  0.000000  0.000000  \n",
              "2010-12-06  0.000000  0.000000  \n",
              "...              ...       ...  \n",
              "2011-12-05  0.000000  0.000000  \n",
              "2011-12-06  0.000862  0.000000  \n",
              "2011-12-07  0.000000  0.000000  \n",
              "2011-12-08  0.000036  0.000000  \n",
              "2011-12-09  0.000000  0.894162  \n",
              "\n",
              "[305 rows x 3665 columns]"
            ],
            "text/html": [
              "\n",
              "  <div id=\"df-0d2da66e-7cff-4247-b04d-4d3522f6fbe8\" class=\"colab-df-container\">\n",
              "    <div>\n",
              "<style scoped>\n",
              "    .dataframe tbody tr th:only-of-type {\n",
              "        vertical-align: middle;\n",
              "    }\n",
              "\n",
              "    .dataframe tbody tr th {\n",
              "        vertical-align: top;\n",
              "    }\n",
              "\n",
              "    .dataframe thead th {\n",
              "        text-align: right;\n",
              "    }\n",
              "</style>\n",
              "<table border=\"1\" class=\"dataframe\">\n",
              "  <thead>\n",
              "    <tr style=\"text-align: right;\">\n",
              "      <th></th>\n",
              "      <th>85123A</th>\n",
              "      <th>71053</th>\n",
              "      <th>84406B</th>\n",
              "      <th>84029G</th>\n",
              "      <th>84029E</th>\n",
              "      <th>22752</th>\n",
              "      <th>21730</th>\n",
              "      <th>22633</th>\n",
              "      <th>22632</th>\n",
              "      <th>84879</th>\n",
              "      <th>...</th>\n",
              "      <th>23562</th>\n",
              "      <th>23561</th>\n",
              "      <th>90214F</th>\n",
              "      <th>90214O</th>\n",
              "      <th>90214T</th>\n",
              "      <th>90214U</th>\n",
              "      <th>90214W</th>\n",
              "      <th>90214Z</th>\n",
              "      <th>90089</th>\n",
              "      <th>23843</th>\n",
              "    </tr>\n",
              "  </thead>\n",
              "  <tbody>\n",
              "    <tr>\n",
              "      <th>2010-12-01</th>\n",
              "      <td>0.018212</td>\n",
              "      <td>0.001321</td>\n",
              "      <td>0.001652</td>\n",
              "      <td>0.002313</td>\n",
              "      <td>0.022672</td>\n",
              "      <td>0.000909</td>\n",
              "      <td>0.001239</td>\n",
              "      <td>0.007351</td>\n",
              "      <td>0.009581</td>\n",
              "      <td>0.008920</td>\n",
              "      <td>...</td>\n",
              "      <td>0.000000</td>\n",
              "      <td>0.000000</td>\n",
              "      <td>0.000000</td>\n",
              "      <td>0.000000</td>\n",
              "      <td>0.000000</td>\n",
              "      <td>0.000000</td>\n",
              "      <td>0.000000</td>\n",
              "      <td>0.000000</td>\n",
              "      <td>0.000000</td>\n",
              "      <td>0.000000</td>\n",
              "    </tr>\n",
              "    <tr>\n",
              "      <th>2010-12-02</th>\n",
              "      <td>0.009922</td>\n",
              "      <td>0.003018</td>\n",
              "      <td>0.002729</td>\n",
              "      <td>0.004303</td>\n",
              "      <td>0.004335</td>\n",
              "      <td>0.007032</td>\n",
              "      <td>0.002376</td>\n",
              "      <td>0.004881</td>\n",
              "      <td>0.005395</td>\n",
              "      <td>0.016152</td>\n",
              "      <td>...</td>\n",
              "      <td>0.000000</td>\n",
              "      <td>0.000000</td>\n",
              "      <td>0.000000</td>\n",
              "      <td>0.000000</td>\n",
              "      <td>0.000000</td>\n",
              "      <td>0.000000</td>\n",
              "      <td>0.000000</td>\n",
              "      <td>0.000000</td>\n",
              "      <td>0.000000</td>\n",
              "      <td>0.000000</td>\n",
              "    </tr>\n",
              "    <tr>\n",
              "      <th>2010-12-03</th>\n",
              "      <td>0.001689</td>\n",
              "      <td>0.000000</td>\n",
              "      <td>0.000000</td>\n",
              "      <td>0.000338</td>\n",
              "      <td>0.001351</td>\n",
              "      <td>0.000507</td>\n",
              "      <td>0.000253</td>\n",
              "      <td>0.008616</td>\n",
              "      <td>0.002196</td>\n",
              "      <td>0.002703</td>\n",
              "      <td>...</td>\n",
              "      <td>0.000000</td>\n",
              "      <td>0.000000</td>\n",
              "      <td>0.000000</td>\n",
              "      <td>0.000000</td>\n",
              "      <td>0.000000</td>\n",
              "      <td>0.000000</td>\n",
              "      <td>0.000000</td>\n",
              "      <td>0.000000</td>\n",
              "      <td>0.000000</td>\n",
              "      <td>0.000000</td>\n",
              "    </tr>\n",
              "    <tr>\n",
              "      <th>2010-12-05</th>\n",
              "      <td>0.012037</td>\n",
              "      <td>0.000000</td>\n",
              "      <td>0.002006</td>\n",
              "      <td>0.001763</td>\n",
              "      <td>0.001033</td>\n",
              "      <td>0.000486</td>\n",
              "      <td>0.000122</td>\n",
              "      <td>0.004985</td>\n",
              "      <td>0.004560</td>\n",
              "      <td>0.007842</td>\n",
              "      <td>...</td>\n",
              "      <td>0.000000</td>\n",
              "      <td>0.000000</td>\n",
              "      <td>0.000000</td>\n",
              "      <td>0.000000</td>\n",
              "      <td>0.000000</td>\n",
              "      <td>0.000000</td>\n",
              "      <td>0.000000</td>\n",
              "      <td>0.000000</td>\n",
              "      <td>0.000000</td>\n",
              "      <td>0.000000</td>\n",
              "    </tr>\n",
              "    <tr>\n",
              "      <th>2010-12-06</th>\n",
              "      <td>0.008348</td>\n",
              "      <td>0.000614</td>\n",
              "      <td>0.000737</td>\n",
              "      <td>0.000246</td>\n",
              "      <td>0.002885</td>\n",
              "      <td>0.000614</td>\n",
              "      <td>0.002148</td>\n",
              "      <td>0.016635</td>\n",
              "      <td>0.017433</td>\n",
              "      <td>0.006998</td>\n",
              "      <td>...</td>\n",
              "      <td>0.000000</td>\n",
              "      <td>0.000000</td>\n",
              "      <td>0.000000</td>\n",
              "      <td>0.000000</td>\n",
              "      <td>0.000000</td>\n",
              "      <td>0.000000</td>\n",
              "      <td>0.000000</td>\n",
              "      <td>0.000000</td>\n",
              "      <td>0.000000</td>\n",
              "      <td>0.000000</td>\n",
              "    </tr>\n",
              "    <tr>\n",
              "      <th>...</th>\n",
              "      <td>...</td>\n",
              "      <td>...</td>\n",
              "      <td>...</td>\n",
              "      <td>...</td>\n",
              "      <td>...</td>\n",
              "      <td>...</td>\n",
              "      <td>...</td>\n",
              "      <td>...</td>\n",
              "      <td>...</td>\n",
              "      <td>...</td>\n",
              "      <td>...</td>\n",
              "      <td>...</td>\n",
              "      <td>...</td>\n",
              "      <td>...</td>\n",
              "      <td>...</td>\n",
              "      <td>...</td>\n",
              "      <td>...</td>\n",
              "      <td>...</td>\n",
              "      <td>...</td>\n",
              "      <td>...</td>\n",
              "      <td>...</td>\n",
              "    </tr>\n",
              "    <tr>\n",
              "      <th>2011-12-05</th>\n",
              "      <td>0.007677</td>\n",
              "      <td>0.000078</td>\n",
              "      <td>0.000442</td>\n",
              "      <td>0.000468</td>\n",
              "      <td>0.001041</td>\n",
              "      <td>0.001145</td>\n",
              "      <td>0.000104</td>\n",
              "      <td>0.002732</td>\n",
              "      <td>0.001327</td>\n",
              "      <td>0.002836</td>\n",
              "      <td>...</td>\n",
              "      <td>0.000729</td>\n",
              "      <td>0.000625</td>\n",
              "      <td>0.000312</td>\n",
              "      <td>0.000312</td>\n",
              "      <td>0.000312</td>\n",
              "      <td>0.000312</td>\n",
              "      <td>0.000312</td>\n",
              "      <td>0.000312</td>\n",
              "      <td>0.000000</td>\n",
              "      <td>0.000000</td>\n",
              "    </tr>\n",
              "    <tr>\n",
              "      <th>2011-12-06</th>\n",
              "      <td>0.001402</td>\n",
              "      <td>0.000000</td>\n",
              "      <td>0.000000</td>\n",
              "      <td>0.000539</td>\n",
              "      <td>0.000287</td>\n",
              "      <td>0.003450</td>\n",
              "      <td>0.000072</td>\n",
              "      <td>0.001078</td>\n",
              "      <td>0.001402</td>\n",
              "      <td>0.008625</td>\n",
              "      <td>...</td>\n",
              "      <td>0.000862</td>\n",
              "      <td>0.000000</td>\n",
              "      <td>0.000000</td>\n",
              "      <td>0.000000</td>\n",
              "      <td>0.000000</td>\n",
              "      <td>0.000000</td>\n",
              "      <td>0.000000</td>\n",
              "      <td>0.000000</td>\n",
              "      <td>0.000862</td>\n",
              "      <td>0.000000</td>\n",
              "    </tr>\n",
              "    <tr>\n",
              "      <th>2011-12-07</th>\n",
              "      <td>0.004866</td>\n",
              "      <td>0.000146</td>\n",
              "      <td>0.000000</td>\n",
              "      <td>0.000973</td>\n",
              "      <td>0.001192</td>\n",
              "      <td>0.000292</td>\n",
              "      <td>0.000097</td>\n",
              "      <td>0.000998</td>\n",
              "      <td>0.000633</td>\n",
              "      <td>0.006228</td>\n",
              "      <td>...</td>\n",
              "      <td>0.001800</td>\n",
              "      <td>0.001654</td>\n",
              "      <td>0.000024</td>\n",
              "      <td>0.000000</td>\n",
              "      <td>0.000000</td>\n",
              "      <td>0.000000</td>\n",
              "      <td>0.000000</td>\n",
              "      <td>0.000000</td>\n",
              "      <td>0.000000</td>\n",
              "      <td>0.000000</td>\n",
              "    </tr>\n",
              "    <tr>\n",
              "      <th>2011-12-08</th>\n",
              "      <td>0.003739</td>\n",
              "      <td>0.000000</td>\n",
              "      <td>0.000000</td>\n",
              "      <td>0.002468</td>\n",
              "      <td>0.000472</td>\n",
              "      <td>0.000871</td>\n",
              "      <td>0.000000</td>\n",
              "      <td>0.001488</td>\n",
              "      <td>0.002033</td>\n",
              "      <td>0.000109</td>\n",
              "      <td>...</td>\n",
              "      <td>0.000762</td>\n",
              "      <td>0.000436</td>\n",
              "      <td>0.000000</td>\n",
              "      <td>0.000000</td>\n",
              "      <td>0.000000</td>\n",
              "      <td>0.000000</td>\n",
              "      <td>0.000000</td>\n",
              "      <td>0.000000</td>\n",
              "      <td>0.000036</td>\n",
              "      <td>0.000000</td>\n",
              "    </tr>\n",
              "    <tr>\n",
              "      <th>2011-12-09</th>\n",
              "      <td>0.000011</td>\n",
              "      <td>0.000000</td>\n",
              "      <td>0.000000</td>\n",
              "      <td>0.000221</td>\n",
              "      <td>0.000088</td>\n",
              "      <td>0.000000</td>\n",
              "      <td>0.000000</td>\n",
              "      <td>0.000464</td>\n",
              "      <td>0.000265</td>\n",
              "      <td>0.000177</td>\n",
              "      <td>...</td>\n",
              "      <td>0.000066</td>\n",
              "      <td>0.000066</td>\n",
              "      <td>0.000000</td>\n",
              "      <td>0.000000</td>\n",
              "      <td>0.000000</td>\n",
              "      <td>0.000000</td>\n",
              "      <td>0.000000</td>\n",
              "      <td>0.000000</td>\n",
              "      <td>0.000000</td>\n",
              "      <td>0.894162</td>\n",
              "    </tr>\n",
              "  </tbody>\n",
              "</table>\n",
              "<p>305 rows × 3665 columns</p>\n",
              "</div>\n",
              "    <div class=\"colab-df-buttons\">\n",
              "\n",
              "  <div class=\"colab-df-container\">\n",
              "    <button class=\"colab-df-convert\" onclick=\"convertToInteractive('df-0d2da66e-7cff-4247-b04d-4d3522f6fbe8')\"\n",
              "            title=\"Convert this dataframe to an interactive table.\"\n",
              "            style=\"display:none;\">\n",
              "\n",
              "  <svg xmlns=\"http://www.w3.org/2000/svg\" height=\"24px\" viewBox=\"0 -960 960 960\">\n",
              "    <path d=\"M120-120v-720h720v720H120Zm60-500h600v-160H180v160Zm220 220h160v-160H400v160Zm0 220h160v-160H400v160ZM180-400h160v-160H180v160Zm440 0h160v-160H620v160ZM180-180h160v-160H180v160Zm440 0h160v-160H620v160Z\"/>\n",
              "  </svg>\n",
              "    </button>\n",
              "\n",
              "  <style>\n",
              "    .colab-df-container {\n",
              "      display:flex;\n",
              "      gap: 12px;\n",
              "    }\n",
              "\n",
              "    .colab-df-convert {\n",
              "      background-color: #E8F0FE;\n",
              "      border: none;\n",
              "      border-radius: 50%;\n",
              "      cursor: pointer;\n",
              "      display: none;\n",
              "      fill: #1967D2;\n",
              "      height: 32px;\n",
              "      padding: 0 0 0 0;\n",
              "      width: 32px;\n",
              "    }\n",
              "\n",
              "    .colab-df-convert:hover {\n",
              "      background-color: #E2EBFA;\n",
              "      box-shadow: 0px 1px 2px rgba(60, 64, 67, 0.3), 0px 1px 3px 1px rgba(60, 64, 67, 0.15);\n",
              "      fill: #174EA6;\n",
              "    }\n",
              "\n",
              "    .colab-df-buttons div {\n",
              "      margin-bottom: 4px;\n",
              "    }\n",
              "\n",
              "    [theme=dark] .colab-df-convert {\n",
              "      background-color: #3B4455;\n",
              "      fill: #D2E3FC;\n",
              "    }\n",
              "\n",
              "    [theme=dark] .colab-df-convert:hover {\n",
              "      background-color: #434B5C;\n",
              "      box-shadow: 0px 1px 3px 1px rgba(0, 0, 0, 0.15);\n",
              "      filter: drop-shadow(0px 1px 2px rgba(0, 0, 0, 0.3));\n",
              "      fill: #FFFFFF;\n",
              "    }\n",
              "  </style>\n",
              "\n",
              "    <script>\n",
              "      const buttonEl =\n",
              "        document.querySelector('#df-0d2da66e-7cff-4247-b04d-4d3522f6fbe8 button.colab-df-convert');\n",
              "      buttonEl.style.display =\n",
              "        google.colab.kernel.accessAllowed ? 'block' : 'none';\n",
              "\n",
              "      async function convertToInteractive(key) {\n",
              "        const element = document.querySelector('#df-0d2da66e-7cff-4247-b04d-4d3522f6fbe8');\n",
              "        const dataTable =\n",
              "          await google.colab.kernel.invokeFunction('convertToInteractive',\n",
              "                                                    [key], {});\n",
              "        if (!dataTable) return;\n",
              "\n",
              "        const docLinkHtml = 'Like what you see? Visit the ' +\n",
              "          '<a target=\"_blank\" href=https://colab.research.google.com/notebooks/data_table.ipynb>data table notebook</a>'\n",
              "          + ' to learn more about interactive tables.';\n",
              "        element.innerHTML = '';\n",
              "        dataTable['output_type'] = 'display_data';\n",
              "        await google.colab.output.renderOutput(dataTable, element);\n",
              "        const docLink = document.createElement('div');\n",
              "        docLink.innerHTML = docLinkHtml;\n",
              "        element.appendChild(docLink);\n",
              "      }\n",
              "    </script>\n",
              "  </div>\n",
              "\n",
              "\n",
              "<div id=\"df-ab4d5f3c-6457-43af-8189-6253da1bbbf0\">\n",
              "  <button class=\"colab-df-quickchart\" onclick=\"quickchart('df-ab4d5f3c-6457-43af-8189-6253da1bbbf0')\"\n",
              "            title=\"Suggest charts\"\n",
              "            style=\"display:none;\">\n",
              "\n",
              "<svg xmlns=\"http://www.w3.org/2000/svg\" height=\"24px\"viewBox=\"0 0 24 24\"\n",
              "     width=\"24px\">\n",
              "    <g>\n",
              "        <path d=\"M19 3H5c-1.1 0-2 .9-2 2v14c0 1.1.9 2 2 2h14c1.1 0 2-.9 2-2V5c0-1.1-.9-2-2-2zM9 17H7v-7h2v7zm4 0h-2V7h2v10zm4 0h-2v-4h2v4z\"/>\n",
              "    </g>\n",
              "</svg>\n",
              "  </button>\n",
              "\n",
              "<style>\n",
              "  .colab-df-quickchart {\n",
              "      --bg-color: #E8F0FE;\n",
              "      --fill-color: #1967D2;\n",
              "      --hover-bg-color: #E2EBFA;\n",
              "      --hover-fill-color: #174EA6;\n",
              "      --disabled-fill-color: #AAA;\n",
              "      --disabled-bg-color: #DDD;\n",
              "  }\n",
              "\n",
              "  [theme=dark] .colab-df-quickchart {\n",
              "      --bg-color: #3B4455;\n",
              "      --fill-color: #D2E3FC;\n",
              "      --hover-bg-color: #434B5C;\n",
              "      --hover-fill-color: #FFFFFF;\n",
              "      --disabled-bg-color: #3B4455;\n",
              "      --disabled-fill-color: #666;\n",
              "  }\n",
              "\n",
              "  .colab-df-quickchart {\n",
              "    background-color: var(--bg-color);\n",
              "    border: none;\n",
              "    border-radius: 50%;\n",
              "    cursor: pointer;\n",
              "    display: none;\n",
              "    fill: var(--fill-color);\n",
              "    height: 32px;\n",
              "    padding: 0;\n",
              "    width: 32px;\n",
              "  }\n",
              "\n",
              "  .colab-df-quickchart:hover {\n",
              "    background-color: var(--hover-bg-color);\n",
              "    box-shadow: 0 1px 2px rgba(60, 64, 67, 0.3), 0 1px 3px 1px rgba(60, 64, 67, 0.15);\n",
              "    fill: var(--button-hover-fill-color);\n",
              "  }\n",
              "\n",
              "  .colab-df-quickchart-complete:disabled,\n",
              "  .colab-df-quickchart-complete:disabled:hover {\n",
              "    background-color: var(--disabled-bg-color);\n",
              "    fill: var(--disabled-fill-color);\n",
              "    box-shadow: none;\n",
              "  }\n",
              "\n",
              "  .colab-df-spinner {\n",
              "    border: 2px solid var(--fill-color);\n",
              "    border-color: transparent;\n",
              "    border-bottom-color: var(--fill-color);\n",
              "    animation:\n",
              "      spin 1s steps(1) infinite;\n",
              "  }\n",
              "\n",
              "  @keyframes spin {\n",
              "    0% {\n",
              "      border-color: transparent;\n",
              "      border-bottom-color: var(--fill-color);\n",
              "      border-left-color: var(--fill-color);\n",
              "    }\n",
              "    20% {\n",
              "      border-color: transparent;\n",
              "      border-left-color: var(--fill-color);\n",
              "      border-top-color: var(--fill-color);\n",
              "    }\n",
              "    30% {\n",
              "      border-color: transparent;\n",
              "      border-left-color: var(--fill-color);\n",
              "      border-top-color: var(--fill-color);\n",
              "      border-right-color: var(--fill-color);\n",
              "    }\n",
              "    40% {\n",
              "      border-color: transparent;\n",
              "      border-right-color: var(--fill-color);\n",
              "      border-top-color: var(--fill-color);\n",
              "    }\n",
              "    60% {\n",
              "      border-color: transparent;\n",
              "      border-right-color: var(--fill-color);\n",
              "    }\n",
              "    80% {\n",
              "      border-color: transparent;\n",
              "      border-right-color: var(--fill-color);\n",
              "      border-bottom-color: var(--fill-color);\n",
              "    }\n",
              "    90% {\n",
              "      border-color: transparent;\n",
              "      border-bottom-color: var(--fill-color);\n",
              "    }\n",
              "  }\n",
              "</style>\n",
              "\n",
              "  <script>\n",
              "    async function quickchart(key) {\n",
              "      const quickchartButtonEl =\n",
              "        document.querySelector('#' + key + ' button');\n",
              "      quickchartButtonEl.disabled = true;  // To prevent multiple clicks.\n",
              "      quickchartButtonEl.classList.add('colab-df-spinner');\n",
              "      try {\n",
              "        const charts = await google.colab.kernel.invokeFunction(\n",
              "            'suggestCharts', [key], {});\n",
              "      } catch (error) {\n",
              "        console.error('Error during call to suggestCharts:', error);\n",
              "      }\n",
              "      quickchartButtonEl.classList.remove('colab-df-spinner');\n",
              "      quickchartButtonEl.classList.add('colab-df-quickchart-complete');\n",
              "    }\n",
              "    (() => {\n",
              "      let quickchartButtonEl =\n",
              "        document.querySelector('#df-ab4d5f3c-6457-43af-8189-6253da1bbbf0 button');\n",
              "      quickchartButtonEl.style.display =\n",
              "        google.colab.kernel.accessAllowed ? 'block' : 'none';\n",
              "    })();\n",
              "  </script>\n",
              "</div>\n",
              "\n",
              "  <div id=\"id_12d95d3a-e639-47d1-a6bb-78a7404edcbc\">\n",
              "    <style>\n",
              "      .colab-df-generate {\n",
              "        background-color: #E8F0FE;\n",
              "        border: none;\n",
              "        border-radius: 50%;\n",
              "        cursor: pointer;\n",
              "        display: none;\n",
              "        fill: #1967D2;\n",
              "        height: 32px;\n",
              "        padding: 0 0 0 0;\n",
              "        width: 32px;\n",
              "      }\n",
              "\n",
              "      .colab-df-generate:hover {\n",
              "        background-color: #E2EBFA;\n",
              "        box-shadow: 0px 1px 2px rgba(60, 64, 67, 0.3), 0px 1px 3px 1px rgba(60, 64, 67, 0.15);\n",
              "        fill: #174EA6;\n",
              "      }\n",
              "\n",
              "      [theme=dark] .colab-df-generate {\n",
              "        background-color: #3B4455;\n",
              "        fill: #D2E3FC;\n",
              "      }\n",
              "\n",
              "      [theme=dark] .colab-df-generate:hover {\n",
              "        background-color: #434B5C;\n",
              "        box-shadow: 0px 1px 3px 1px rgba(0, 0, 0, 0.15);\n",
              "        filter: drop-shadow(0px 1px 2px rgba(0, 0, 0, 0.3));\n",
              "        fill: #FFFFFF;\n",
              "      }\n",
              "    </style>\n",
              "    <button class=\"colab-df-generate\" onclick=\"generateWithVariable('train_df')\"\n",
              "            title=\"Generate code using this dataframe.\"\n",
              "            style=\"display:none;\">\n",
              "\n",
              "  <svg xmlns=\"http://www.w3.org/2000/svg\" height=\"24px\"viewBox=\"0 0 24 24\"\n",
              "       width=\"24px\">\n",
              "    <path d=\"M7,19H8.4L18.45,9,17,7.55,7,17.6ZM5,21V16.75L18.45,3.32a2,2,0,0,1,2.83,0l1.4,1.43a1.91,1.91,0,0,1,.58,1.4,1.91,1.91,0,0,1-.58,1.4L9.25,21ZM18.45,9,17,7.55Zm-12,3A5.31,5.31,0,0,0,4.9,8.1,5.31,5.31,0,0,0,1,6.5,5.31,5.31,0,0,0,4.9,4.9,5.31,5.31,0,0,0,6.5,1,5.31,5.31,0,0,0,8.1,4.9,5.31,5.31,0,0,0,12,6.5,5.46,5.46,0,0,0,6.5,12Z\"/>\n",
              "  </svg>\n",
              "    </button>\n",
              "    <script>\n",
              "      (() => {\n",
              "      const buttonEl =\n",
              "        document.querySelector('#id_12d95d3a-e639-47d1-a6bb-78a7404edcbc button.colab-df-generate');\n",
              "      buttonEl.style.display =\n",
              "        google.colab.kernel.accessAllowed ? 'block' : 'none';\n",
              "\n",
              "      buttonEl.onclick = () => {\n",
              "        google.colab.notebook.generateWithVariable('train_df');\n",
              "      }\n",
              "      })();\n",
              "    </script>\n",
              "  </div>\n",
              "\n",
              "    </div>\n",
              "  </div>\n"
            ],
            "application/vnd.google.colaboratory.intrinsic+json": {
              "type": "dataframe",
              "variable_name": "train_df"
            }
          },
          "metadata": {},
          "execution_count": 4
        }
      ],
      "source": [
        "train_df"
      ]
    },
    {
      "cell_type": "code",
      "execution_count": null,
      "metadata": {
        "id": "F9Cq_YHtMpBf"
      },
      "outputs": [],
      "source": [
        "train_data = train_data.to('cuda')"
      ]
    },
    {
      "cell_type": "code",
      "execution_count": null,
      "metadata": {
        "id": "8La083qYq0dC"
      },
      "outputs": [],
      "source": [
        "train_data = train_data.float().reshape(1, -1, 3665)"
      ]
    },
    {
      "cell_type": "code",
      "execution_count": null,
      "metadata": {
        "id": "qgpEHWN6WHtR",
        "colab": {
          "base_uri": "https://localhost:8080/"
        },
        "outputId": "d9d6bfa2-73e6-4b71-e132-09cbb250cde3"
      },
      "outputs": [
        {
          "output_type": "execute_result",
          "data": {
            "text/plain": [
              "torch.Size([1, 305, 3665])"
            ]
          },
          "metadata": {},
          "execution_count": 7
        }
      ],
      "source": [
        "train_data.shape"
      ]
    },
    {
      "cell_type": "markdown",
      "source": [
        "## Asymmetric Autoencoder\n",
        "By practical experiment and [architecture of WaveNet](https://arxiv.org/pdf/1609.03499.pdf), pretrained AE outperforms than scratch training."
      ],
      "metadata": {
        "id": "_2CsW7BnPwiA"
      }
    },
    {
      "cell_type": "code",
      "execution_count": null,
      "metadata": {
        "id": "qWcirYEgoxhf"
      },
      "outputs": [],
      "source": [
        "class CNNEncoder(nn.Module):\n",
        "    def __init__(self, window=9, num_features=3665):\n",
        "        super(CNNEncoder, self).__init__()\n",
        "        self.window = window\n",
        "        self.num_features = num_features\n",
        "\n",
        "        self.conv = nn.ModuleList([\n",
        "            nn.Sequential(\n",
        "                nn.Conv1d(self.num_features,\n",
        "                          self.num_features * 3 // 4 + 1,\n",
        "                          kernel_size=self.window,\n",
        "                          padding=(self.window - 1) * 1,\n",
        "                          dilation=1\n",
        "                ),\n",
        "                nn.GELU(),\n",
        "                nn.Dropout1d(0.1),\n",
        "            ),\n",
        "            nn.Sequential(\n",
        "                nn.Conv1d(self.num_features * 3 // 4 + 1,\n",
        "                          self.num_features // 2 + 1,\n",
        "                          kernel_size=self.window,\n",
        "                          padding=(self.window - 1) * 2,\n",
        "                          dilation=2\n",
        "                ),\n",
        "                nn.GELU(),\n",
        "                nn.Dropout1d(0.1),\n",
        "            ),\n",
        "            nn.Sequential(\n",
        "                nn.Conv1d(self.num_features // 2 + 1,\n",
        "                          self.num_features // 4 + 1,\n",
        "                          kernel_size=self.window,\n",
        "                          padding=(self.window - 1) * 4,\n",
        "                          dilation=4\n",
        "                ),\n",
        "                nn.GELU(),\n",
        "                nn.Dropout1d(0.1),\n",
        "            ),\n",
        "            nn.Sequential(\n",
        "                nn.Conv1d(self.num_features // 4 + 1,\n",
        "                          self.num_features // 8 + 1,\n",
        "                          kernel_size=self.window,\n",
        "                          padding=(self.window - 1) * 8,\n",
        "                          dilation=8\n",
        "                ),\n",
        "                nn.GELU(),\n",
        "            ),\n",
        "            nn.Sequential(\n",
        "                nn.Conv1d(self.num_features // 8 + 1,\n",
        "                          self.num_features // 16 + 1,\n",
        "                          kernel_size=self.window,\n",
        "                          padding=(self.window - 1) * 16,\n",
        "                          dilation=16\n",
        "                ),\n",
        "                nn.GELU(),\n",
        "            ),\n",
        "            nn.Sequential(\n",
        "                nn.Conv1d(self.num_features // 16 + 1,\n",
        "                          self.num_features // 32 + 1,\n",
        "                          kernel_size=self.window,\n",
        "                          padding=(self.window - 1) * 32,\n",
        "                          dilation=32\n",
        "                ),\n",
        "                nn.GELU(),\n",
        "            )]\n",
        "        )\n",
        "\n",
        "    def forward(self, x):\n",
        "        for layer in self.conv:\n",
        "            x = layer(x)\n",
        "            x = x[:, :, :-layer[0].padding[0]]\n",
        "        return x\n",
        "\n",
        "class CNNDecoder(nn.Module):\n",
        "    def __init__(self, window=9, num_features=3665):\n",
        "        super(CNNDecoder, self).__init__()\n",
        "        self.window = window\n",
        "        self.num_features = num_features\n",
        "\n",
        "        self.cnn_decoder = nn.ModuleList([\n",
        "            nn.Sequential(\n",
        "                nn.ConvTranspose1d(self.num_features // 32 + 1,\n",
        "                                   self.num_features // 8 + 1,\n",
        "                                   kernel_size=self.window,\n",
        "                                   padding=self.window // 2\n",
        "                ),\n",
        "                nn.GELU(),\n",
        "            ),\n",
        "            nn.Sequential(\n",
        "                nn.ConvTranspose1d(self.num_features // 8 + 1,\n",
        "                                   self.num_features // 2 + 1,\n",
        "                                   kernel_size=self.window,\n",
        "                                   padding=self.window // 2\n",
        "                ),\n",
        "                nn.GELU(),\n",
        "            ),\n",
        "            nn.Sequential(\n",
        "                nn.ConvTranspose1d(self.num_features // 2 + 1,\n",
        "                                   self.num_features,\n",
        "                                   kernel_size=self.window,\n",
        "                                   padding=self.window // 2\n",
        "                ),\n",
        "                nn.Softmax(dim=-2),\n",
        "            )]\n",
        "        )\n",
        "\n",
        "    def forward(self, x):\n",
        "        for layer in self.cnn_decoder:\n",
        "            x = layer(x)\n",
        "        return x"
      ]
    },
    {
      "cell_type": "markdown",
      "source": [
        "## SAM Optimizer\n",
        "[SAM Optimizer](https://arxiv.org/pdf/2010.01412.pdf) helps models learn better than any other optimizer."
      ],
      "metadata": {
        "id": "7zKVgIBxQVaJ"
      }
    },
    {
      "cell_type": "code",
      "execution_count": null,
      "metadata": {
        "id": "s4mPhitZMirz"
      },
      "outputs": [],
      "source": [
        "class SAM(torch.optim.Optimizer):\n",
        "    def __init__(self, params, base_optimizer, rho=0.05, adaptive=False, **kwargs):\n",
        "        assert rho >= 0.0, f\"Invalid rho, should be non-negative: {rho}\"\n",
        "\n",
        "        defaults = dict(rho=rho, adaptive=adaptive, **kwargs)\n",
        "        super(SAM, self).__init__(params, defaults)\n",
        "\n",
        "        self.base_optimizer = base_optimizer(self.param_groups, **kwargs)\n",
        "        self.param_groups = self.base_optimizer.param_groups\n",
        "        self.defaults.update(self.base_optimizer.defaults)\n",
        "\n",
        "    @torch.no_grad()\n",
        "    def first_step(self, zero_grad=False):\n",
        "        grad_norm = self._grad_norm()\n",
        "        for group in self.param_groups:\n",
        "            scale = group[\"rho\"] / (grad_norm + 1e-12)\n",
        "\n",
        "            for p in group[\"params\"]:\n",
        "                if p.grad is None: continue\n",
        "                self.state[p][\"old_p\"] = p.data.clone()\n",
        "                e_w = (torch.pow(p, 2) if group[\"adaptive\"] else 1.0) * p.grad * scale.to(p)\n",
        "                p.add_(e_w)  # climb to the local maximum \"w + e(w)\"\n",
        "\n",
        "        if zero_grad: self.zero_grad()\n",
        "\n",
        "    @torch.no_grad()\n",
        "    def second_step(self, zero_grad=False):\n",
        "        for group in self.param_groups:\n",
        "            for p in group[\"params\"]:\n",
        "                if p.grad is None: continue\n",
        "                p.data = self.state[p][\"old_p\"]  # get back to \"w\" from \"w + e(w)\"\n",
        "\n",
        "        self.base_optimizer.step()  # do the actual \"sharpness-aware\" update\n",
        "\n",
        "        if zero_grad: self.zero_grad()\n",
        "\n",
        "    @torch.no_grad()\n",
        "    def step(self, closure=None):\n",
        "        assert closure is not None, \"Sharpness Aware Minimization requires closure, but it was not provided\"\n",
        "        closure = torch.enable_grad()(closure)  # the closure should do a full forward-backward pass\n",
        "\n",
        "        self.first_step(zero_grad=True)\n",
        "        closure()\n",
        "        self.second_step()\n",
        "\n",
        "    def _grad_norm(self):\n",
        "        shared_device = self.param_groups[0][\"params\"][0].device  # put everything on the same device, in case of model parallelism\n",
        "        norm = torch.norm(\n",
        "                    torch.stack([\n",
        "                        ((torch.abs(p) if group[\"adaptive\"] else 1.0) * p.grad).norm(p=2).to(shared_device)\n",
        "                        for group in self.param_groups for p in group[\"params\"]\n",
        "                        if p.grad is not None\n",
        "                    ]),\n",
        "                    p=2\n",
        "               )\n",
        "        return norm\n",
        "\n",
        "    def load_state_dict(self, state_dict):\n",
        "        super().load_state_dict(state_dict)\n",
        "        self.base_optimizer.param_groups = self.param_groups"
      ]
    },
    {
      "cell_type": "code",
      "execution_count": null,
      "metadata": {
        "id": "rtRyV7aVp7M_",
        "colab": {
          "base_uri": "https://localhost:8080/",
          "height": 481,
          "referenced_widgets": [
            "f329619d33f0429b9a9185b4c4c2a898",
            "3a30ec5ed10f4a2da486e27c32d1ad0e",
            "b4f2c9eec93947ffade110b1db5b8095",
            "dd1d13c2d9964545a3c8bc335e001839",
            "c55babff24bb41d99e8ff0e897fef8b5",
            "a6b95cfe1cf648e5a36310c13e21b88c",
            "d60470f907b1410cb74689310137c8fa",
            "5ebe90db9d6544ccb618f760ba670920",
            "4dc66d1ae0e84a188ece6eedf82b248e",
            "9490cdbad1194a11887f6ac4714e2e28",
            "5c6d9f44edd84ca5aaebd28174d0db66"
          ]
        },
        "outputId": "23266e53-8632-4a76-97f4-0b4341a7ec3f"
      },
      "outputs": [
        {
          "output_type": "display_data",
          "data": {
            "text/plain": [
              "  0%|          | 0/400 [00:00<?, ?it/s]"
            ],
            "application/vnd.jupyter.widget-view+json": {
              "version_major": 2,
              "version_minor": 0,
              "model_id": "f329619d33f0429b9a9185b4c4c2a898"
            }
          },
          "metadata": {}
        },
        {
          "output_type": "execute_result",
          "data": {
            "text/plain": [
              "<Axes: >"
            ]
          },
          "metadata": {},
          "execution_count": 10
        },
        {
          "output_type": "display_data",
          "data": {
            "text/plain": [
              "<Figure size 640x480 with 1 Axes>"
            ],
            "image/png": "[encoded data removed]"
          },
          "metadata": {}
        }
      ],
      "source": [
        "cnn_encoder = CNNEncoder().to('cuda')\n",
        "cnn_decoder = CNNDecoder().to('cuda')\n",
        "criterion = nn.KLDivLoss(reduction='batchmean')\n",
        "optimizer = SAM(list(cnn_encoder.parameters()) + list(cnn_decoder.parameters()), AdamW, lr=1e-5)\n",
        "\n",
        "loss_lt = []\n",
        "for epoch in tqdm(range(400)):\n",
        "    repr = cnn_encoder(train_data.transpose(-1, -2))\n",
        "    pred = cnn_decoder(repr)\n",
        "    loss = criterion((train_data.squeeze() + 1e-8).log(), (pred.transpose(-1, -2)).squeeze())\n",
        "    loss.backward()\n",
        "    optimizer.first_step(zero_grad=True)\n",
        "\n",
        "    repr = cnn_encoder(train_data.transpose(-1, -2))\n",
        "    pred = cnn_decoder(repr)\n",
        "    loss = criterion((train_data.squeeze() + 1e-8).log(), (pred.transpose(-1, -2)).squeeze())\n",
        "    loss_lt.append(loss.item())\n",
        "    loss.backward()\n",
        "    optimizer.second_step(zero_grad=True)\n",
        "\n",
        "loss_lt = pd.Series(loss_lt)\n",
        "loss_lt.plot()"
      ]
    },
    {
      "cell_type": "code",
      "execution_count": null,
      "metadata": {
        "id": "ursOPMf5DQwz",
        "colab": {
          "base_uri": "https://localhost:8080/"
        },
        "outputId": "1f57566a-08ff-4465-e2da-e979ba1b796d"
      },
      "outputs": [
        {
          "output_type": "execute_result",
          "data": {
            "text/plain": [
              "2.698629093170166"
            ]
          },
          "metadata": {},
          "execution_count": 11
        }
      ],
      "source": [
        "loss_lt[-10:].mean()"
      ]
    },
    {
      "cell_type": "code",
      "execution_count": null,
      "metadata": {
        "id": "H5wlraUcPMAR",
        "colab": {
          "base_uri": "https://localhost:8080/"
        },
        "outputId": "7c2b0501-c939-4f92-a485-4c2c074526cd"
      },
      "outputs": [
        {
          "output_type": "execute_result",
          "data": {
            "text/plain": [
              "2.698629093170166"
            ]
          },
          "metadata": {},
          "execution_count": 12
        }
      ],
      "source": [
        "loss_lt[-10:].mean()"
      ]
    },
    {
      "cell_type": "code",
      "execution_count": null,
      "metadata": {
        "id": "JgWU6GtensLX"
      },
      "outputs": [],
      "source": [
        "class CNN_LSTM(nn.Module):\n",
        "    def __init__(self, cnn_encoder, hidden_size=196, num_features=3665, num_layers=16):\n",
        "        super(CNN_LSTM, self).__init__()\n",
        "        self.hidden_size = hidden_size\n",
        "        self.num_features = num_features\n",
        "        self.num_layers = num_layers\n",
        "\n",
        "        self.cnn_encoder = cnn_encoder\n",
        "        self.lstm = nn.LSTM(self.num_features // 32 + 1, hidden_size, num_layers, batch_first=True)\n",
        "        self.fc = nn.Sequential(\n",
        "            nn.Linear(hidden_size, self.num_features // 32 + 1),\n",
        "            nn.BatchNorm1d(self.num_features // 32 + 1),\n",
        "            nn.ReLU(),\n",
        "            nn.Linear(self.num_features // 32 + 1, self.num_features // 8 + 1),\n",
        "            nn.BatchNorm1d(self.num_features // 8 + 1),\n",
        "            nn.ReLU(),\n",
        "            nn.Dropout1d(0.1),\n",
        "            nn.Linear(self.num_features // 8 + 1, self.num_features // 4 + 1),\n",
        "            nn.BatchNorm1d(self.num_features // 4 + 1),\n",
        "            nn.ReLU(),\n",
        "            nn.Dropout1d(0.2),\n",
        "            nn.Linear(self.num_features // 4 + 1, self.num_features),\n",
        "            nn.Softmax(dim=-1)\n",
        "        )\n",
        "\n",
        "    def init_hidden(self, batch_size):\n",
        "        h0 = torch.zeros(self.num_layers, batch_size, self.hidden_size).to('cuda')\n",
        "        c0 = torch.zeros(self.num_layers, batch_size, self.hidden_size).to('cuda')\n",
        "        return h0, c0\n",
        "\n",
        "    def forward(self, input_ts):\n",
        "        x = self.cnn_encoder(input_ts)\n",
        "        x = x.transpose(-1, -2)\n",
        "        h0, c0 = self.init_hidden(x.shape[0])\n",
        "        out, _ = self.lstm(x, (h0, c0))\n",
        "        out = out[:, -1, :]\n",
        "        out = self.fc(out)\n",
        "        return out"
      ]
    },
    {
      "cell_type": "code",
      "execution_count": null,
      "metadata": {
        "id": "7wRXTZ820zz3"
      },
      "outputs": [],
      "source": [
        "train_data = train_data.squeeze()"
      ]
    },
    {
      "cell_type": "code",
      "execution_count": null,
      "metadata": {
        "id": "SzIkIN_noI27",
        "colab": {
          "base_uri": "https://localhost:8080/"
        },
        "outputId": "0caa4aba-18f0-4abc-da72-c04c5524e837"
      },
      "outputs": [
        {
          "output_type": "execute_result",
          "data": {
            "text/plain": [
              "(torch.Size([47, 3665, 256]), torch.Size([47, 3665]))"
            ]
          },
          "metadata": {},
          "execution_count": 15
        }
      ],
      "source": [
        "train_tensor = torch.stack([\n",
        "    train_data[i : i + 256].transpose(-1, -2) for i in range(len(train_data) - 256)\n",
        "])[:-2]\n",
        "target_tensor = torch.stack([\n",
        "    train_data[i + 256] for i in range(len(train_data) - 256)\n",
        "])[:-2]\n",
        "train_tensor.shape, target_tensor.shape"
      ]
    },
    {
      "cell_type": "code",
      "execution_count": null,
      "metadata": {
        "id": "VbDFd59bwPse"
      },
      "outputs": [],
      "source": [
        "dataset = TensorDataset(train_tensor, target_tensor)\n",
        "dataloader = DataLoader(dataset, batch_size=48, shuffle=True)\n",
        "criterion = nn.KLDivLoss(reduction='batchmean')\n",
        "model = CNN_LSTM(cnn_encoder).to('cuda')\n",
        "optimizer = SAM(model.parameters(), AdamW, lr=2e-4)"
      ]
    },
    {
      "cell_type": "code",
      "execution_count": null,
      "metadata": {
        "id": "b4iMBrM7vex_",
        "colab": {
          "base_uri": "https://localhost:8080/",
          "height": 559,
          "referenced_widgets": [
            "77b19b803a4847608976fbe5b78fe5e5",
            "33a5568dd95c448e9990d48790516538",
            "42f7b18b93004b19bea95306ec09122e",
            "964e4cd205f24cd88ec5ddc78fa14bd7",
            "0e8ca70cf60341f0bcf7dd9bb2689b8f",
            "b590d8dbf831461bb36ea3b170a77251",
            "9b1e494cccd44172a59068b74f1c47b7",
            "c34c444c0f0e4f5ebad35f89860ff007",
            "f24c6c9f62e64229a04433408d32fe08",
            "f9792023b2c443818d6a0a1a9402d9de",
            "e9df1ed945d44600b18f574764ac267f"
          ]
        },
        "outputId": "e1806bff-f43a-49e6-ece0-4375df322e63"
      },
      "outputs": [
        {
          "output_type": "display_data",
          "data": {
            "text/plain": [
              "  0%|          | 0/100 [00:00<?, ?it/s]"
            ],
            "application/vnd.jupyter.widget-view+json": {
              "version_major": 2,
              "version_minor": 0,
              "model_id": "77b19b803a4847608976fbe5b78fe5e5"
            }
          },
          "metadata": {}
        },
        {
          "output_type": "stream",
          "name": "stderr",
          "text": [
            "/usr/local/lib/python3.10/dist-packages/torch/nn/modules/rnn.py:878: UserWarning: RNN module weights are not part of single contiguous chunk of memory. This means they need to be compacted at every call, possibly greatly increasing memory usage. To compact weights again call flatten_parameters(). (Triggered internally at ../aten/src/ATen/native/cudnn/RNN.cpp:982.)\n",
            "  result = _VF.lstm(input, hx, self._flat_weights, self.bias, self.num_layers,\n"
          ]
        },
        {
          "output_type": "stream",
          "name": "stdout",
          "text": [
            "1.0832520365715026\n"
          ]
        },
        {
          "output_type": "execute_result",
          "data": {
            "text/plain": [
              "<Axes: >"
            ]
          },
          "metadata": {},
          "execution_count": 17
        },
        {
          "output_type": "display_data",
          "data": {
            "text/plain": [
              "<Figure size 640x480 with 1 Axes>"
            ],
            "image/png": "[encoded data removed]"
          },
          "metadata": {}
        }
      ],
      "source": [
        "result_lt = []\n",
        "model.train()\n",
        "for epoch in tqdm(range(100)):\n",
        "    for batch in dataloader:\n",
        "        x, y = batch\n",
        "        output = model(x)\n",
        "        loss = criterion((output + 1e-12).log(), y)\n",
        "        loss.backward()\n",
        "        optimizer.first_step(zero_grad=True)\n",
        "\n",
        "        output = model(x)\n",
        "        loss = criterion((output + 1e-12).log(), y)\n",
        "        loss.backward()\n",
        "        optimizer.second_step(zero_grad=True)\n",
        "        result_lt.append(loss.item())\n",
        "\n",
        "result = pd.Series(result_lt)\n",
        "print(result[-10:].mean())\n",
        "result.plot()"
      ]
    },
    {
      "cell_type": "code",
      "execution_count": null,
      "metadata": {
        "id": "6NfHBj5-G_uO",
        "colab": {
          "base_uri": "https://localhost:8080/"
        },
        "outputId": "f0b1d9e3-f530-4e4c-f731-672aa8211250"
      },
      "outputs": [
        {
          "output_type": "execute_result",
          "data": {
            "text/plain": [
              "torch.Size([305, 3665])"
            ]
          },
          "metadata": {},
          "execution_count": 18
        }
      ],
      "source": [
        "train_data.shape"
      ]
    },
    {
      "cell_type": "code",
      "execution_count": null,
      "metadata": {
        "id": "xCF2ObeVzJWW",
        "colab": {
          "base_uri": "https://localhost:8080/"
        },
        "outputId": "e73a3713-9fe0-4d50-ba15-c5f12f37ead0"
      },
      "outputs": [
        {
          "output_type": "stream",
          "name": "stderr",
          "text": [
            "/usr/local/lib/python3.10/dist-packages/torch/nn/modules/rnn.py:878: UserWarning: RNN module weights are not part of single contiguous chunk of memory. This means they need to be compacted at every call, possibly greatly increasing memory usage. To compact weights again call flatten_parameters(). (Triggered internally at ../aten/src/ATen/native/cudnn/RNN.cpp:982.)\n",
            "  result = _VF.lstm(input, hx, self._flat_weights, self.bias, self.num_layers,\n"
          ]
        },
        {
          "output_type": "execute_result",
          "data": {
            "text/plain": [
              "torch.Size([2, 3665])"
            ]
          },
          "metadata": {},
          "execution_count": 19
        }
      ],
      "source": [
        "model.train()\n",
        "with torch.no_grad():\n",
        "    pred_tensor = model(\n",
        "        torch.stack(\n",
        "        [train_data[:254].T, train_data[-256:-2].T\n",
        "         ])\n",
        "        )\n",
        "pred_tensor.shape"
      ]
    },
    {
      "cell_type": "code",
      "execution_count": null,
      "metadata": {
        "id": "yocgDZhn_kc5",
        "colab": {
          "base_uri": "https://localhost:8080/"
        },
        "outputId": "2e434711-76c1-4936-a440-0057ea4838e3"
      },
      "outputs": [
        {
          "output_type": "execute_result",
          "data": {
            "text/plain": [
              "torch.Size([1, 3665])"
            ]
          },
          "metadata": {},
          "execution_count": 20
        }
      ],
      "source": [
        "model.eval()\n",
        "with torch.no_grad():\n",
        "    pred_tensor = model(train_data[-256:-2].T.unsqueeze(0))\n",
        "pred_tensor.shape"
      ]
    },
    {
      "cell_type": "code",
      "execution_count": null,
      "metadata": {
        "id": "P5TQk0ydzNdT",
        "colab": {
          "base_uri": "https://localhost:8080/"
        },
        "outputId": "6da21723-3f5c-453e-aa7e-6f88c26ffbbc"
      },
      "outputs": [
        {
          "output_type": "execute_result",
          "data": {
            "text/plain": [
              "torch.Size([1, 3665])"
            ]
          },
          "metadata": {},
          "execution_count": 21
        }
      ],
      "source": [
        "val_tensor = train_data[-2].unsqueeze(0)\n",
        "val_tensor.shape"
      ]
    },
    {
      "cell_type": "code",
      "execution_count": null,
      "metadata": {
        "id": "9RyS4h5GkSib",
        "colab": {
          "base_uri": "https://localhost:8080/"
        },
        "outputId": "b0a6f276-5daf-41f3-8737-5504ae219cf3"
      },
      "outputs": [
        {
          "output_type": "execute_result",
          "data": {
            "text/plain": [
              "tensor([[2.0457e-03, 1.2753e-04, 3.5220e-04,  ..., 7.7742e-05, 1.5497e-04,\n",
              "         1.2930e-05]], device='cuda:0')"
            ]
          },
          "metadata": {},
          "execution_count": 22
        }
      ],
      "source": [
        "pred_tensor"
      ]
    },
    {
      "cell_type": "code",
      "execution_count": null,
      "metadata": {
        "id": "EelGpRnxdWYa"
      },
      "outputs": [],
      "source": [
        "pred = pred_tensor.detach().cpu().numpy()\n",
        "val = val_tensor.detach().cpu().numpy()"
      ]
    },
    {
      "cell_type": "code",
      "execution_count": null,
      "metadata": {
        "id": "jzC0V2Q-ekxu",
        "colab": {
          "base_uri": "https://localhost:8080/",
          "height": 449
        },
        "outputId": "eeec330b-2e06-4adc-a1fa-749f33710367"
      },
      "outputs": [
        {
          "output_type": "execute_result",
          "data": {
            "text/plain": [
              "<Axes: >"
            ]
          },
          "metadata": {},
          "execution_count": 24
        },
        {
          "output_type": "display_data",
          "data": {
            "text/plain": [
              "<Figure size 640x480 with 1 Axes>"
            ],
            "image/png": "[encoded data removed]"
          },
          "metadata": {}
        }
      ],
      "source": [
        "pd.Series(val[0]).plot.line()"
      ]
    },
    {
      "cell_type": "code",
      "execution_count": null,
      "metadata": {
        "id": "jxPjdLLKEH7_",
        "colab": {
          "base_uri": "https://localhost:8080/",
          "height": 449
        },
        "outputId": "b5035b48-080b-4da1-f4c9-e5b1eaedebfc"
      },
      "outputs": [
        {
          "output_type": "execute_result",
          "data": {
            "text/plain": [
              "<Axes: >"
            ]
          },
          "metadata": {},
          "execution_count": 25
        },
        {
          "output_type": "display_data",
          "data": {
            "text/plain": [
              "<Figure size 640x480 with 1 Axes>"
            ],
            "image/png": "[encoded data removed]"
          },
          "metadata": {}
        }
      ],
      "source": [
        "pd.Series(pred[0]).plot.line()"
      ]
    },
    {
      "cell_type": "code",
      "execution_count": null,
      "metadata": {
        "id": "I-ElvgNOXNxB",
        "colab": {
          "base_uri": "https://localhost:8080/"
        },
        "outputId": "b34ce487-37eb-4a11-fe55-03cd7f953198"
      },
      "outputs": [
        {
          "output_type": "execute_result",
          "data": {
            "text/plain": [
              "0.5053034492960778"
            ]
          },
          "metadata": {},
          "execution_count": 26
        }
      ],
      "source": [
        "jensenshannon(pred[0], val[0])"
      ]
    }
  ],
  "metadata": {
    "accelerator": "GPU",
    "colab": {
      "gpuType": "V100",
      "provenance": [],
      "authorship_tag": "ABX9TyMv2vAKRQZX4W6ClWzpaszR"
    },
    "kernelspec": {
      "display_name": "Python 3",
      "name": "python3"
    },
    "language_info": {
      "name": "python"
    },
    "widgets": {
      "application/vnd.jupyter.widget-state+json": {
        "f329619d33f0429b9a9185b4c4c2a898": {
          "model_module": "@jupyter-widgets/controls",
          "model_name": "HBoxModel",
          "model_module_version": "1.5.0",
          "state": {
            "_dom_classes": [],
            "_model_module": "@jupyter-widgets/controls",
            "_model_module_version": "1.5.0",
            "_model_name": "HBoxModel",
            "_view_count": null,
            "_view_module": "@jupyter-widgets/controls",
            "_view_module_version": "1.5.0",
            "_view_name": "HBoxView",
            "box_style": "",
            "children": [
              "IPY_MODEL_3a30ec5ed10f4a2da486e27c32d1ad0e",
              "IPY_MODEL_b4f2c9eec93947ffade110b1db5b8095",
              "IPY_MODEL_dd1d13c2d9964545a3c8bc335e001839"
            ],
            "layout": "IPY_MODEL_c55babff24bb41d99e8ff0e897fef8b5"
          }
        },
        "3a30ec5ed10f4a2da486e27c32d1ad0e": {
          "model_module": "@jupyter-widgets/controls",
          "model_name": "HTMLModel",
          "model_module_version": "1.5.0",
          "state": {
            "_dom_classes": [],
            "_model_module": "@jupyter-widgets/controls",
            "_model_module_version": "1.5.0",
            "_model_name": "HTMLModel",
            "_view_count": null,
            "_view_module": "@jupyter-widgets/controls",
            "_view_module_version": "1.5.0",
            "_view_name": "HTMLView",
            "description": "",
            "description_tooltip": null,
            "layout": "IPY_MODEL_a6b95cfe1cf648e5a36310c13e21b88c",
            "placeholder": "​",
            "style": "IPY_MODEL_d60470f907b1410cb74689310137c8fa",
            "value": "100%"
          }
        },
        "b4f2c9eec93947ffade110b1db5b8095": {
          "model_module": "@jupyter-widgets/controls",
          "model_name": "FloatProgressModel",
          "model_module_version": "1.5.0",
          "state": {
            "_dom_classes": [],
            "_model_module": "@jupyter-widgets/controls",
            "_model_module_version": "1.5.0",
            "_model_name": "FloatProgressModel",
            "_view_count": null,
            "_view_module": "@jupyter-widgets/controls",
            "_view_module_version": "1.5.0",
            "_view_name": "ProgressView",
            "bar_style": "success",
            "description": "",
            "description_tooltip": null,
            "layout": "IPY_MODEL_5ebe90db9d6544ccb618f760ba670920",
            "max": 400,
            "min": 0,
            "orientation": "horizontal",
            "style": "IPY_MODEL_4dc66d1ae0e84a188ece6eedf82b248e",
            "value": 400
          }
        },
        "dd1d13c2d9964545a3c8bc335e001839": {
          "model_module": "@jupyter-widgets/controls",
          "model_name": "HTMLModel",
          "model_module_version": "1.5.0",
          "state": {
            "_dom_classes": [],
            "_model_module": "@jupyter-widgets/controls",
            "_model_module_version": "1.5.0",
            "_model_name": "HTMLModel",
            "_view_count": null,
            "_view_module": "@jupyter-widgets/controls",
            "_view_module_version": "1.5.0",
            "_view_name": "HTMLView",
            "description": "",
            "description_tooltip": null,
            "layout": "IPY_MODEL_9490cdbad1194a11887f6ac4714e2e28",
            "placeholder": "​",
            "style": "IPY_MODEL_5c6d9f44edd84ca5aaebd28174d0db66",
            "value": " 400/400 [00:57&lt;00:00,  7.23it/s]"
          }
        },
        "c55babff24bb41d99e8ff0e897fef8b5": {
          "model_module": "@jupyter-widgets/base",
          "model_name": "LayoutModel",
          "model_module_version": "1.2.0",
          "state": {
            "_model_module": "@jupyter-widgets/base",
            "_model_module_version": "1.2.0",
            "_model_name": "LayoutModel",
            "_view_count": null,
            "_view_module": "@jupyter-widgets/base",
            "_view_module_version": "1.2.0",
            "_view_name": "LayoutView",
            "align_content": null,
            "align_items": null,
            "align_self": null,
            "border": null,
            "bottom": null,
            "display": null,
            "flex": null,
            "flex_flow": null,
            "grid_area": null,
            "grid_auto_columns": null,
            "grid_auto_flow": null,
            "grid_auto_rows": null,
            "grid_column": null,
            "grid_gap": null,
            "grid_row": null,
            "grid_template_areas": null,
            "grid_template_columns": null,
            "grid_template_rows": null,
            "height": null,
            "justify_content": null,
            "justify_items": null,
            "left": null,
            "margin": null,
            "max_height": null,
            "max_width": null,
            "min_height": null,
            "min_width": null,
            "object_fit": null,
            "object_position": null,
            "order": null,
            "overflow": null,
            "overflow_x": null,
            "overflow_y": null,
            "padding": null,
            "right": null,
            "top": null,
            "visibility": null,
            "width": null
          }
        },
        "a6b95cfe1cf648e5a36310c13e21b88c": {
          "model_module": "@jupyter-widgets/base",
          "model_name": "LayoutModel",
          "model_module_version": "1.2.0",
          "state": {
            "_model_module": "@jupyter-widgets/base",
            "_model_module_version": "1.2.0",
            "_model_name": "LayoutModel",
            "_view_count": null,
            "_view_module": "@jupyter-widgets/base",
            "_view_module_version": "1.2.0",
            "_view_name": "LayoutView",
            "align_content": null,
            "align_items": null,
            "align_self": null,
            "border": null,
            "bottom": null,
            "display": null,
            "flex": null,
            "flex_flow": null,
            "grid_area": null,
            "grid_auto_columns": null,
            "grid_auto_flow": null,
            "grid_auto_rows": null,
            "grid_column": null,
            "grid_gap": null,
            "grid_row": null,
            "grid_template_areas": null,
            "grid_template_columns": null,
            "grid_template_rows": null,
            "height": null,
            "justify_content": null,
            "justify_items": null,
            "left": null,
            "margin": null,
            "max_height": null,
            "max_width": null,
            "min_height": null,
            "min_width": null,
            "object_fit": null,
            "object_position": null,
            "order": null,
            "overflow": null,
            "overflow_x": null,
            "overflow_y": null,
            "padding": null,
            "right": null,
            "top": null,
            "visibility": null,
            "width": null
          }
        },
        "d60470f907b1410cb74689310137c8fa": {
          "model_module": "@jupyter-widgets/controls",
          "model_name": "DescriptionStyleModel",
          "model_module_version": "1.5.0",
          "state": {
            "_model_module": "@jupyter-widgets/controls",
            "_model_module_version": "1.5.0",
            "_model_name": "DescriptionStyleModel",
            "_view_count": null,
            "_view_module": "@jupyter-widgets/base",
            "_view_module_version": "1.2.0",
            "_view_name": "StyleView",
            "description_width": ""
          }
        },
        "5ebe90db9d6544ccb618f760ba670920": {
          "model_module": "@jupyter-widgets/base",
          "model_name": "LayoutModel",
          "model_module_version": "1.2.0",
          "state": {
            "_model_module": "@jupyter-widgets/base",
            "_model_module_version": "1.2.0",
            "_model_name": "LayoutModel",
            "_view_count": null,
            "_view_module": "@jupyter-widgets/base",
            "_view_module_version": "1.2.0",
            "_view_name": "LayoutView",
            "align_content": null,
            "align_items": null,
            "align_self": null,
            "border": null,
            "bottom": null,
            "display": null,
            "flex": null,
            "flex_flow": null,
            "grid_area": null,
            "grid_auto_columns": null,
            "grid_auto_flow": null,
            "grid_auto_rows": null,
            "grid_column": null,
            "grid_gap": null,
            "grid_row": null,
            "grid_template_areas": null,
            "grid_template_columns": null,
            "grid_template_rows": null,
            "height": null,
            "justify_content": null,
            "justify_items": null,
            "left": null,
            "margin": null,
            "max_height": null,
            "max_width": null,
            "min_height": null,
            "min_width": null,
            "object_fit": null,
            "object_position": null,
            "order": null,
            "overflow": null,
            "overflow_x": null,
            "overflow_y": null,
            "padding": null,
            "right": null,
            "top": null,
            "visibility": null,
            "width": null
          }
        },
        "4dc66d1ae0e84a188ece6eedf82b248e": {
          "model_module": "@jupyter-widgets/controls",
          "model_name": "ProgressStyleModel",
          "model_module_version": "1.5.0",
          "state": {
            "_model_module": "@jupyter-widgets/controls",
            "_model_module_version": "1.5.0",
            "_model_name": "ProgressStyleModel",
            "_view_count": null,
            "_view_module": "@jupyter-widgets/base",
            "_view_module_version": "1.2.0",
            "_view_name": "StyleView",
            "bar_color": null,
            "description_width": ""
          }
        },
        "9490cdbad1194a11887f6ac4714e2e28": {
          "model_module": "@jupyter-widgets/base",
          "model_name": "LayoutModel",
          "model_module_version": "1.2.0",
          "state": {
            "_model_module": "@jupyter-widgets/base",
            "_model_module_version": "1.2.0",
            "_model_name": "LayoutModel",
            "_view_count": null,
            "_view_module": "@jupyter-widgets/base",
            "_view_module_version": "1.2.0",
            "_view_name": "LayoutView",
            "align_content": null,
            "align_items": null,
            "align_self": null,
            "border": null,
            "bottom": null,
            "display": null,
            "flex": null,
            "flex_flow": null,
            "grid_area": null,
            "grid_auto_columns": null,
            "grid_auto_flow": null,
            "grid_auto_rows": null,
            "grid_column": null,
            "grid_gap": null,
            "grid_row": null,
            "grid_template_areas": null,
            "grid_template_columns": null,
            "grid_template_rows": null,
            "height": null,
            "justify_content": null,
            "justify_items": null,
            "left": null,
            "margin": null,
            "max_height": null,
            "max_width": null,
            "min_height": null,
            "min_width": null,
            "object_fit": null,
            "object_position": null,
            "order": null,
            "overflow": null,
            "overflow_x": null,
            "overflow_y": null,
            "padding": null,
            "right": null,
            "top": null,
            "visibility": null,
            "width": null
          }
        },
        "5c6d9f44edd84ca5aaebd28174d0db66": {
          "model_module": "@jupyter-widgets/controls",
          "model_name": "DescriptionStyleModel",
          "model_module_version": "1.5.0",
          "state": {
            "_model_module": "@jupyter-widgets/controls",
            "_model_module_version": "1.5.0",
            "_model_name": "DescriptionStyleModel",
            "_view_count": null,
            "_view_module": "@jupyter-widgets/base",
            "_view_module_version": "1.2.0",
            "_view_name": "StyleView",
            "description_width": ""
          }
        },
        "77b19b803a4847608976fbe5b78fe5e5": {
          "model_module": "@jupyter-widgets/controls",
          "model_name": "HBoxModel",
          "model_module_version": "1.5.0",
          "state": {
            "_dom_classes": [],
            "_model_module": "@jupyter-widgets/controls",
            "_model_module_version": "1.5.0",
            "_model_name": "HBoxModel",
            "_view_count": null,
            "_view_module": "@jupyter-widgets/controls",
            "_view_module_version": "1.5.0",
            "_view_name": "HBoxView",
            "box_style": "",
            "children": [
              "IPY_MODEL_33a5568dd95c448e9990d48790516538",
              "IPY_MODEL_42f7b18b93004b19bea95306ec09122e",
              "IPY_MODEL_964e4cd205f24cd88ec5ddc78fa14bd7"
            ],
            "layout": "IPY_MODEL_0e8ca70cf60341f0bcf7dd9bb2689b8f"
          }
        },
        "33a5568dd95c448e9990d48790516538": {
          "model_module": "@jupyter-widgets/controls",
          "model_name": "HTMLModel",
          "model_module_version": "1.5.0",
          "state": {
            "_dom_classes": [],
            "_model_module": "@jupyter-widgets/controls",
            "_model_module_version": "1.5.0",
            "_model_name": "HTMLModel",
            "_view_count": null,
            "_view_module": "@jupyter-widgets/controls",
            "_view_module_version": "1.5.0",
            "_view_name": "HTMLView",
            "description": "",
            "description_tooltip": null,
            "layout": "IPY_MODEL_b590d8dbf831461bb36ea3b170a77251",
            "placeholder": "​",
            "style": "IPY_MODEL_9b1e494cccd44172a59068b74f1c47b7",
            "value": "100%"
          }
        },
        "42f7b18b93004b19bea95306ec09122e": {
          "model_module": "@jupyter-widgets/controls",
          "model_name": "FloatProgressModel",
          "model_module_version": "1.5.0",
          "state": {
            "_dom_classes": [],
            "_model_module": "@jupyter-widgets/controls",
            "_model_module_version": "1.5.0",
            "_model_name": "FloatProgressModel",
            "_view_count": null,
            "_view_module": "@jupyter-widgets/controls",
            "_view_module_version": "1.5.0",
            "_view_name": "ProgressView",
            "bar_style": "success",
            "description": "",
            "description_tooltip": null,
            "layout": "IPY_MODEL_c34c444c0f0e4f5ebad35f89860ff007",
            "max": 100,
            "min": 0,
            "orientation": "horizontal",
            "style": "IPY_MODEL_f24c6c9f62e64229a04433408d32fe08",
            "value": 100
          }
        },
        "964e4cd205f24cd88ec5ddc78fa14bd7": {
          "model_module": "@jupyter-widgets/controls",
          "model_name": "HTMLModel",
          "model_module_version": "1.5.0",
          "state": {
            "_dom_classes": [],
            "_model_module": "@jupyter-widgets/controls",
            "_model_module_version": "1.5.0",
            "_model_name": "HTMLModel",
            "_view_count": null,
            "_view_module": "@jupyter-widgets/controls",
            "_view_module_version": "1.5.0",
            "_view_name": "HTMLView",
            "description": "",
            "description_tooltip": null,
            "layout": "IPY_MODEL_f9792023b2c443818d6a0a1a9402d9de",
            "placeholder": "​",
            "style": "IPY_MODEL_e9df1ed945d44600b18f574764ac267f",
            "value": " 100/100 [03:06&lt;00:00,  1.86s/it]"
          }
        },
        "0e8ca70cf60341f0bcf7dd9bb2689b8f": {
          "model_module": "@jupyter-widgets/base",
          "model_name": "LayoutModel",
          "model_module_version": "1.2.0",
          "state": {
            "_model_module": "@jupyter-widgets/base",
            "_model_module_version": "1.2.0",
            "_model_name": "LayoutModel",
            "_view_count": null,
            "_view_module": "@jupyter-widgets/base",
            "_view_module_version": "1.2.0",
            "_view_name": "LayoutView",
            "align_content": null,
            "align_items": null,
            "align_self": null,
            "border": null,
            "bottom": null,
            "display": null,
            "flex": null,
            "flex_flow": null,
            "grid_area": null,
            "grid_auto_columns": null,
            "grid_auto_flow": null,
            "grid_auto_rows": null,
            "grid_column": null,
            "grid_gap": null,
            "grid_row": null,
            "grid_template_areas": null,
            "grid_template_columns": null,
            "grid_template_rows": null,
            "height": null,
            "justify_content": null,
            "justify_items": null,
            "left": null,
            "margin": null,
            "max_height": null,
            "max_width": null,
            "min_height": null,
            "min_width": null,
            "object_fit": null,
            "object_position": null,
            "order": null,
            "overflow": null,
            "overflow_x": null,
            "overflow_y": null,
            "padding": null,
            "right": null,
            "top": null,
            "visibility": null,
            "width": null
          }
        },
        "b590d8dbf831461bb36ea3b170a77251": {
          "model_module": "@jupyter-widgets/base",
          "model_name": "LayoutModel",
          "model_module_version": "1.2.0",
          "state": {
            "_model_module": "@jupyter-widgets/base",
            "_model_module_version": "1.2.0",
            "_model_name": "LayoutModel",
            "_view_count": null,
            "_view_module": "@jupyter-widgets/base",
            "_view_module_version": "1.2.0",
            "_view_name": "LayoutView",
            "align_content": null,
            "align_items": null,
            "align_self": null,
            "border": null,
            "bottom": null,
            "display": null,
            "flex": null,
            "flex_flow": null,
            "grid_area": null,
            "grid_auto_columns": null,
            "grid_auto_flow": null,
            "grid_auto_rows": null,
            "grid_column": null,
            "grid_gap": null,
            "grid_row": null,
            "grid_template_areas": null,
            "grid_template_columns": null,
            "grid_template_rows": null,
            "height": null,
            "justify_content": null,
            "justify_items": null,
            "left": null,
            "margin": null,
            "max_height": null,
            "max_width": null,
            "min_height": null,
            "min_width": null,
            "object_fit": null,
            "object_position": null,
            "order": null,
            "overflow": null,
            "overflow_x": null,
            "overflow_y": null,
            "padding": null,
            "right": null,
            "top": null,
            "visibility": null,
            "width": null
          }
        },
        "9b1e494cccd44172a59068b74f1c47b7": {
          "model_module": "@jupyter-widgets/controls",
          "model_name": "DescriptionStyleModel",
          "model_module_version": "1.5.0",
          "state": {
            "_model_module": "@jupyter-widgets/controls",
            "_model_module_version": "1.5.0",
            "_model_name": "DescriptionStyleModel",
            "_view_count": null,
            "_view_module": "@jupyter-widgets/base",
            "_view_module_version": "1.2.0",
            "_view_name": "StyleView",
            "description_width": ""
          }
        },
        "c34c444c0f0e4f5ebad35f89860ff007": {
          "model_module": "@jupyter-widgets/base",
          "model_name": "LayoutModel",
          "model_module_version": "1.2.0",
          "state": {
            "_model_module": "@jupyter-widgets/base",
            "_model_module_version": "1.2.0",
            "_model_name": "LayoutModel",
            "_view_count": null,
            "_view_module": "@jupyter-widgets/base",
            "_view_module_version": "1.2.0",
            "_view_name": "LayoutView",
            "align_content": null,
            "align_items": null,
            "align_self": null,
            "border": null,
            "bottom": null,
            "display": null,
            "flex": null,
            "flex_flow": null,
            "grid_area": null,
            "grid_auto_columns": null,
            "grid_auto_flow": null,
            "grid_auto_rows": null,
            "grid_column": null,
            "grid_gap": null,
            "grid_row": null,
            "grid_template_areas": null,
            "grid_template_columns": null,
            "grid_template_rows": null,
            "height": null,
            "justify_content": null,
            "justify_items": null,
            "left": null,
            "margin": null,
            "max_height": null,
            "max_width": null,
            "min_height": null,
            "min_width": null,
            "object_fit": null,
            "object_position": null,
            "order": null,
            "overflow": null,
            "overflow_x": null,
            "overflow_y": null,
            "padding": null,
            "right": null,
            "top": null,
            "visibility": null,
            "width": null
          }
        },
        "f24c6c9f62e64229a04433408d32fe08": {
          "model_module": "@jupyter-widgets/controls",
          "model_name": "ProgressStyleModel",
          "model_module_version": "1.5.0",
          "state": {
            "_model_module": "@jupyter-widgets/controls",
            "_model_module_version": "1.5.0",
            "_model_name": "ProgressStyleModel",
            "_view_count": null,
            "_view_module": "@jupyter-widgets/base",
            "_view_module_version": "1.2.0",
            "_view_name": "StyleView",
            "bar_color": null,
            "description_width": ""
          }
        },
        "f9792023b2c443818d6a0a1a9402d9de": {
          "model_module": "@jupyter-widgets/base",
          "model_name": "LayoutModel",
          "model_module_version": "1.2.0",
          "state": {
            "_model_module": "@jupyter-widgets/base",
            "_model_module_version": "1.2.0",
            "_model_name": "LayoutModel",
            "_view_count": null,
            "_view_module": "@jupyter-widgets/base",
            "_view_module_version": "1.2.0",
            "_view_name": "LayoutView",
            "align_content": null,
            "align_items": null,
            "align_self": null,
            "border": null,
            "bottom": null,
            "display": null,
            "flex": null,
            "flex_flow": null,
            "grid_area": null,
            "grid_auto_columns": null,
            "grid_auto_flow": null,
            "grid_auto_rows": null,
            "grid_column": null,
            "grid_gap": null,
            "grid_row": null,
            "grid_template_areas": null,
            "grid_template_columns": null,
            "grid_template_rows": null,
            "height": null,
            "justify_content": null,
            "justify_items": null,
            "left": null,
            "margin": null,
            "max_height": null,
            "max_width": null,
            "min_height": null,
            "min_width": null,
            "object_fit": null,
            "object_position": null,
            "order": null,
            "overflow": null,
            "overflow_x": null,
            "overflow_y": null,
            "padding": null,
            "right": null,
            "top": null,
            "visibility": null,
            "width": null
          }
        },
        "e9df1ed945d44600b18f574764ac267f": {
          "model_module": "@jupyter-widgets/controls",
          "model_name": "DescriptionStyleModel",
          "model_module_version": "1.5.0",
          "state": {
            "_model_module": "@jupyter-widgets/controls",
            "_model_module_version": "1.5.0",
            "_model_name": "DescriptionStyleModel",
            "_view_count": null,
            "_view_module": "@jupyter-widgets/base",
            "_view_module_version": "1.2.0",
            "_view_name": "StyleView",
            "description_width": ""
          }
        }
      }
    }
  },
  "nbformat": 4,
  "nbformat_minor": 0
}